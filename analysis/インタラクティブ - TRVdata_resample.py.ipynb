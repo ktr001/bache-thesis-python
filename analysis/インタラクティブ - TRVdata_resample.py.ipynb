{
 "cells": [
  {
   "cell_type": "code",
   "execution_count": null,
   "id": "77a4e714-6038-408b-b314-7486f0085e2b",
   "metadata": {},
   "outputs": [
    {
     "name": "stdout",
     "output_type": "stream",
     "text": [
      "'__name__ = __main__'\n",
      "'__name__ == \"__main__\" = True'\n",
      "PosixPath('/home/iori/daxue/bache-thesis-python/analysis')\n"
     ]
    }
   ],
   "source": [
    "from os import name\n",
    "import datetime\n",
    "import plotly.graph_objects as go\n",
    "from plotly import offline\n",
    "import numpy as np\n",
    "import numpy.typing as npt\n",
    "from bache_thesis_python import fft, resample\n",
    "import polars as pl\n",
    "from pathlib import Path\n",
    "import pprint\n",
    "\n",
    "\n",
    "CURRENT_DIR = Path.cwd()\n",
    "pprint.pprint(f'__name__ = {__name__}')\n",
    "pprint.pprint(f'__name__ == \"__main__\" = {__name__ == \"__main__\"}')\n",
    "pprint.pprint(CURRENT_DIR)"
   ]
  },
  {
   "cell_type": "code",
   "execution_count": null,
   "id": "995fea0e-d9b3-49e9-969e-ce1ddc4f03f1",
   "metadata": {},
   "outputs": [],
   "source": [
    "PATH_TO_0630_DATA_DIR : str = \"/home/iori/daxue/bache_thesis/20230630_軌道変位データ/\"\n",
    "SOURCE_0630_FILE :str = PATH_TO_0630_DATA_DIR + \"TGdata20230630_converted.csv\"\n",
    "# PATH_TO_0126_DATA_DIR : str = \"/home/iori/daxue/bache_thesis/20240126_軌道変位データ/\"\n",
    "# SOURCE_0126_FILE :str = PATH_TO_0126_DATA_DIR + \"TGdata20240126_converted.csv\"\n",
    "OUTPUT_0630_FILE:str = PATH_TO_0630_DATA_DIR + \"TGdata20230630_resampled.csv\""
   ]
  },
  {
   "cell_type": "code",
   "execution_count": null,
   "id": "d99e8c65-0333-42c1-9b35-69f9349e627b",
   "metadata": {},
   "outputs": [],
   "source": [
    "F_BASE:float = 1/(0.25) # 元データのfreq = 4(cycle/m)\n",
    "F_TRANS:float = 8*F_BASE # UP sampling後の周波数 \n",
    "F_FOR_FFT:float = F_BASE # FFT用の周波数 "
   ]
  },
  {
   "cell_type": "code",
   "execution_count": null,
   "id": "ac61e6b6-1ef4-4b93-ae5d-1ae5b74bd86f",
   "metadata": {},
   "outputs": [
    {
     "name": "stdout",
     "output_type": "stream",
     "text": [
      "Base Sampling rate is 4.0 Hz. Transformed sampling rate is 32.0 Hz.\n",
      "Max Time is 67898.5541521 s\n",
      "Number of sampling point is 271594. It will be 2172754 after resampling\n",
      "Resampling 平面性(生波形)...\n",
      "Resampling 水準(生波形)...\n",
      "Resampling 10m弦高低(右)(狂い量)...\n",
      "Resampling 10m弦高低(左)(狂い量)...\n",
      "Resampling 10m弦通り(右)(生波形)...\n",
      "Resampling 10m弦通り(左)(生波形)...\n",
      "Resampling 軌間(生波形)...\n",
      "Applying filter against: 平面性(生波形)...\n",
      "[1.20000005 1.16257502 1.12515    ... 1.89999998 1.89999998 1.89999998]\n",
      "Applying filter against: 水準(生波形)...\n",
      "[ 9.19999981  9.24989988  9.29979995 ... -0.27499996 -0.33749998\n",
      " -0.40000001]\n",
      "Applying filter against: 10m弦高低(右)(狂い量)...\n",
      "[9.02320004 9.08986165 9.15652327 ... 5.99262743 5.92637029 5.86011314]\n",
      "Applying filter against: 10m弦高低(左)(狂い量)...\n",
      "[9.30285072 9.25777672 9.21270272 ... 6.00881056 5.94448831 5.88016605]\n",
      "Applying filter against: 10m弦通り(右)(生波形)...\n",
      "[ 4.          3.97504999  3.95009999 ... -4.12500006 -4.21250013\n",
      " -4.30000019]\n",
      "Applying filter against: 10m弦通り(左)(生波形)...\n",
      "[-3.         -2.98752501 -2.97505002 ...  4.07499983  4.13749982\n",
      "  4.19999981]\n",
      "Applying filter against: 軌間(生波形)...\n",
      "[ 0.40000001  0.40000001  0.40000001 ... -2.175      -2.18750003\n",
      " -2.20000005]\n"
     ]
    }
   ],
   "source": [
    "df_source_data = pl.read_csv(SOURCE_0630_FILE).with_columns(pl.col('キロ程(meter)') - 114.5 ) # source data 読み込み,キロ程が114.5Mから始まるので0Mにオフセット\n",
    "df_resampled_data_tmp : pl.DataFrame = resample(\n",
    "    df_source_data,\n",
    "    'キロ程(meter)',\n",
    "    ['平面性(生波形)','水準(生波形)','10m弦高低(右)(狂い量)','10m弦高低(左)(狂い量)','10m弦通り(右)(生波形)','10m弦通り(左)(生波形)','軌間(生波形)'],\n",
    "    F_BASE,\n",
    "    F_TRANS,\n",
    "    'UP',\n",
    ")"
   ]
  },
  {
   "cell_type": "code",
   "execution_count": null,
   "id": "40a17c07-7e53-437d-9eff-b1f28ef86219",
   "metadata": {},
   "outputs": [
    {
     "name": "stdout",
     "output_type": "stream",
     "text": [
      "Base Sampling rate is 32.0 Hz. Transformed sampling rate is 4.0 Hz.\n",
      "Max Time is 67898.5541521 s\n",
      "Number of sampling point is 2172753. It will be 271595 after resampling\n",
      "Applying filter against: 平面性(生波形)...\n",
      "[1.2336022  1.17699271 1.11845087 ... 1.90744458 1.90820768 1.90864328]\n",
      "Applying filter against: 水準(生波形)...\n",
      "[ 9.17740738  9.23665958  9.2969115  ... -0.24777789 -0.28252214\n",
      " -0.31517385]\n",
      "Applying filter against: 10m弦高低(右)(狂い量)...\n",
      "[9.06078468 9.11331394 9.16386395 ... 5.98547667 5.95664962 5.92913224]\n",
      "Applying filter against: 10m弦高低(左)(狂い量)...\n",
      "[9.37553049 9.31435418 9.25049375 ... 6.00576532 5.98048595 5.95586698]\n",
      "Applying filter against: 10m弦通り(右)(生波形)...\n",
      "[ 4.00929083  3.98359819  3.95776519 ... -4.12893149 -4.19072523\n",
      " -4.24613353]\n",
      "Applying filter against: 10m弦通り(左)(生波形)...\n",
      "[-3.00841902 -2.9960771  -2.9835708  ...  4.08515997  4.13065197\n",
      "  4.17115613]\n",
      "Applying filter against: 軌間(生波形)...\n",
      "[ 0.40092321  0.40097829  0.40100434 ... -2.17734744 -2.19031784\n",
      " -2.20151596]\n",
      "Resampling 平面性(生波形)...\n",
      "Resampling 水準(生波形)...\n",
      "Resampling 10m弦高低(右)(狂い量)...\n",
      "Resampling 10m弦高低(左)(狂い量)...\n",
      "Resampling 10m弦通り(右)(生波形)...\n",
      "Resampling 10m弦通り(左)(生波形)...\n",
      "Resampling 軌間(生波形)...\n"
     ]
    }
   ],
   "source": [
    "df_resampled_data = resample(\n",
    "    df_resampled_data_tmp,\n",
    "    'キロ程(meter)',\n",
    "    ['平面性(生波形)','水準(生波形)','10m弦高低(右)(狂い量)','10m弦高低(左)(狂い量)','10m弦通り(右)(生波形)','10m弦通り(左)(生波形)','軌間(生波形)'],\n",
    "    F_TRANS,\n",
    "    F_BASE,\n",
    "    'DOWN',\n",
    ")"
   ]
  },
  {
   "cell_type": "code",
   "execution_count": null,
   "id": "02b4b694-7058-4973-b845-aba3062f2542",
   "metadata": {},
   "outputs": [],
   "source": [
    "#  [ ] 等間隔サンプリングからのズレの確認\n",
    "df_compare = pl.DataFrame(\n",
    "    [\n",
    "        pl.Series(\n",
    "            np.array([\n",
    "                i*(0.25) for i in range(df_resampled_data.height)\n",
    "                ]\n",
    "            )\n",
    "        ).alias('uniform_キロ程'),\n",
    "        df_resampled_data['キロ程(meter)'].alias('resampled_キロ程'),\n",
    "    ]\n",
    "\n",
    ")"
   ]
  },
  {
   "cell_type": "code",
   "execution_count": null,
   "id": "dcf82684-5647-45aa-9397-10b1d3515ccf",
   "metadata": {},
   "outputs": [
    {
     "data": {
      "text/html": [
       "<div><style>\n",
       ".dataframe > thead > tr,\n",
       ".dataframe > tbody > tr {\n",
       "  text-align: right;\n",
       "  white-space: pre-wrap;\n",
       "}\n",
       "</style>\n",
       "<small>shape: (9, 4)</small><table border=\"1\" class=\"dataframe\"><thead><tr><th>statistic</th><th>uniform_キロ程</th><th>resampled_キロ程</th><th>diff</th></tr><tr><td>str</td><td>f64</td><td>f64</td><td>f64</td></tr></thead><tbody><tr><td>&quot;count&quot;</td><td>271595.0</td><td>271595.0</td><td>271595.0</td></tr><tr><td>&quot;null_count&quot;</td><td>0.0</td><td>0.0</td><td>0.0</td></tr><tr><td>&quot;mean&quot;</td><td>33949.25</td><td>33949.277076</td><td>-0.027076</td></tr><tr><td>&quot;std&quot;</td><td>19600.716879</td><td>19600.732512</td><td>0.015632</td></tr><tr><td>&quot;min&quot;</td><td>0.0</td><td>0.0</td><td>-0.054152</td></tr><tr><td>&quot;25%&quot;</td><td>16974.75</td><td>16974.763538</td><td>-0.040614</td></tr><tr><td>&quot;50%&quot;</td><td>33949.25</td><td>33949.277076</td><td>-0.027076</td></tr><tr><td>&quot;75%&quot;</td><td>50924.0</td><td>50924.040614</td><td>-0.013538</td></tr><tr><td>&quot;max&quot;</td><td>67898.5</td><td>67898.554152</td><td>0.0</td></tr></tbody></table></div>"
      ],
      "text/plain": [
       "shape: (9, 4)\n",
       "┌────────────┬────────────────┬──────────────────┬───────────┐\n",
       "│ statistic  ┆ uniform_キロ程 ┆ resampled_キロ程 ┆ diff      │\n",
       "│ ---        ┆ ---            ┆ ---              ┆ ---       │\n",
       "│ str        ┆ f64            ┆ f64              ┆ f64       │\n",
       "╞════════════╪════════════════╪══════════════════╪═══════════╡\n",
       "│ count      ┆ 271595.0       ┆ 271595.0         ┆ 271595.0  │\n",
       "│ null_count ┆ 0.0            ┆ 0.0              ┆ 0.0       │\n",
       "│ mean       ┆ 33949.25       ┆ 33949.277076     ┆ -0.027076 │\n",
       "│ std        ┆ 19600.716879   ┆ 19600.732512     ┆ 0.015632  │\n",
       "│ min        ┆ 0.0            ┆ 0.0              ┆ -0.054152 │\n",
       "│ 25%        ┆ 16974.75       ┆ 16974.763538     ┆ -0.040614 │\n",
       "│ 50%        ┆ 33949.25       ┆ 33949.277076     ┆ -0.027076 │\n",
       "│ 75%        ┆ 50924.0        ┆ 50924.040614     ┆ -0.013538 │\n",
       "│ max        ┆ 67898.5        ┆ 67898.554152     ┆ 0.0       │\n",
       "└────────────┴────────────────┴──────────────────┴───────────┘"
      ]
     },
     "execution_count": 13,
     "metadata": {},
     "output_type": "execute_result"
    }
   ],
   "source": [
    "df_compare = df_compare.with_columns(\n",
    "    (pl.col('uniform_キロ程') - pl.col('resampled_キロ程')).alias('diff')\n",
    ")\n",
    "df_compare.describe()"
   ]
  },
  {
   "cell_type": "code",
   "execution_count": null,
   "id": "f6f5b101-c13c-475c-b8c9-79305d7b067c",
   "metadata": {},
   "outputs": [],
   "source": [
    "df_resampled_data.write_csv(OUTPUT_0630_FILE)"
   ]
  }
 ],
 "metadata": {
  "kernelspec": {
   "display_name": "bache-thesis-python-Mo-76Tqk-py3.10",
   "language": "python",
   "name": "python3"
  },
  "language_info": {
   "name": "python",
   "version": "3.10.12"
  }
 },
 "nbformat": 4,
 "nbformat_minor": 2
}
